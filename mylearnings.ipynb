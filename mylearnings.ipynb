{
 "cells": [
  {
   "cell_type": "markdown",
   "id": "2b32df88-68d7-4859-aafc-d45632b1051a",
   "metadata": {},
   "source": [
    "#                                                         Goldi Babu"
   ]
  },
  {
   "cell_type": "markdown",
   "id": "ea9f685f-e7d0-49f1-8d7c-77b1567bf934",
   "metadata": {},
   "source": [
    "#                                        Python Experiments\n",
    "\n",
    "\n"
   ]
  },
  {
   "cell_type": "markdown",
   "id": "4652d2ed-2e16-423f-95a8-f614b9fa4fbf",
   "metadata": {},
   "source": [
    "# _______________________________________________________________________________________________________________________________________________________\n",
    "# Experiment - 01\n",
    "# Hello Python"
   ]
  },
  {
   "cell_type": "code",
   "execution_count": 9,
   "id": "2ffadb12-d393-4dc7-bb69-44b71ef8732e",
   "metadata": {},
   "outputs": [
    {
     "name": "stdout",
     "output_type": "stream",
     "text": [
      "Hello Python\n"
     ]
    }
   ],
   "source": [
    "print(\"Hello Python\")"
   ]
  },
  {
   "cell_type": "markdown",
   "id": "50685d32-cff0-4cf3-9eed-07eb72728952",
   "metadata": {},
   "source": [
    "# Experiment- 02\n",
    "# Arithematic operations"
   ]
  },
  {
   "cell_type": "code",
   "execution_count": 12,
   "id": "692cc9ad-4559-4009-a59b-8353a3d61873",
   "metadata": {},
   "outputs": [
    {
     "name": "stdout",
     "output_type": "stream",
     "text": [
      "Enter first number: 5\n",
      "Enter second number: 3\n"
     ]
    },
    {
     "name": "stdout",
     "output_type": "stream",
     "text": [
      "8\n",
      "2\n",
      "15\n",
      "1.6666666666666667\n"
     ]
    }
   ],
   "source": [
    "x=int(input(\"Enter first number:\"))\n",
    "y=int(input(\"Enter second number:\"))\n",
    "print(x+y)\n",
    "print(x-y)\n",
    "print(x*y)\n",
    "print(x/y)"
   ]
  },
  {
   "cell_type": "markdown",
   "id": "fa1eabe3-16f5-492d-8a2d-b5662a787770",
   "metadata": {},
   "source": [
    "# Experiment-03\n",
    "# Calendar"
   ]
  },
  {
   "cell_type": "code",
   "execution_count": 15,
   "id": "b0efde75-adff-4294-b8d9-4e78d6a6b2b0",
   "metadata": {},
   "outputs": [
    {
     "name": "stdout",
     "output_type": "stream",
     "text": [
      "Enter year: 2025\n",
      "Enter month 01\n"
     ]
    },
    {
     "name": "stdout",
     "output_type": "stream",
     "text": [
      "    January 2025\n",
      "Mo Tu We Th Fr Sa Su\n",
      "       1  2  3  4  5\n",
      " 6  7  8  9 10 11 12\n",
      "13 14 15 16 17 18 19\n",
      "20 21 22 23 24 25 26\n",
      "27 28 29 30 31\n",
      "\n"
     ]
    }
   ],
   "source": [
    "import calendar\n",
    "year=int(input(\"Enter year:\"))\n",
    "month=int(input(\"Enter month\"))\n",
    "print(calendar.month(year , month))"
   ]
  },
  {
   "cell_type": "markdown",
   "id": "a792b505-67d7-4e0e-9f5a-1cc55825d595",
   "metadata": {},
   "source": [
    "# Experiment-04\n",
    "# Positive OR Negative"
   ]
  },
  {
   "cell_type": "code",
   "execution_count": 18,
   "id": "114056ca-d179-454f-8ebc-0f5dc52e015f",
   "metadata": {},
   "outputs": [
    {
     "name": "stdout",
     "output_type": "stream",
     "text": [
      "Enter number: 10\n"
     ]
    },
    {
     "name": "stdout",
     "output_type": "stream",
     "text": [
      "Positive\n"
     ]
    }
   ],
   "source": [
    "a=int(input(\"Enter number:\"))\n",
    "if a<0:\n",
    "    print(\"Negative\")\n",
    "elif a>0:\n",
    "    print(\"Positive\")\n",
    "else:\n",
    "    print(\"Zero\")"
   ]
  },
  {
   "cell_type": "code",
   "execution_count": 20,
   "id": "89476abe-05d7-4725-aeed-9b5bd38f154b",
   "metadata": {},
   "outputs": [
    {
     "name": "stdout",
     "output_type": "stream",
     "text": [
      "Enter number: -5\n"
     ]
    },
    {
     "name": "stdout",
     "output_type": "stream",
     "text": [
      "Negative\n"
     ]
    }
   ],
   "source": [
    "a=int(input(\"Enter number:\"))\n",
    "if a<0:\n",
    "    print(\"Negative\")\n",
    "elif a>0:\n",
    "    print(\"Positive\")\n",
    "else:\n",
    "    print(\"Zero\")"
   ]
  },
  {
   "cell_type": "code",
   "execution_count": 22,
   "id": "77b60499-0c48-4b78-9b27-f37a22dd528d",
   "metadata": {},
   "outputs": [
    {
     "name": "stdout",
     "output_type": "stream",
     "text": [
      "Enter number: 0\n"
     ]
    },
    {
     "name": "stdout",
     "output_type": "stream",
     "text": [
      "Zero\n"
     ]
    }
   ],
   "source": [
    "a=int(input(\"Enter number:\"))\n",
    "if a<0:\n",
    "    print(\"Negative\")\n",
    "elif a>0:\n",
    "    print(\"Positive\")\n",
    "else:\n",
    "    print(\"Zero\")"
   ]
  },
  {
   "cell_type": "markdown",
   "id": "d208ffde-7610-4904-8e80-a09971f6384e",
   "metadata": {},
   "source": [
    "Experiment-05"
   ]
  },
  {
   "cell_type": "code",
   "execution_count": 25,
   "id": "4d9da10f-6d4d-4268-80b5-47aa59c87b10",
   "metadata": {},
   "outputs": [
    {
     "name": "stdout",
     "output_type": "stream",
     "text": [
      "Enter number: 25\n"
     ]
    },
    {
     "name": "stdout",
     "output_type": "stream",
     "text": [
      "Odd\n"
     ]
    }
   ],
   "source": [
    "a=int(input(\"Enter number:\"))\n",
    "if a%2==0:\n",
    "    print(\"Even\")\n",
    "else:\n",
    "    print(\"Odd\")"
   ]
  },
  {
   "cell_type": "code",
   "execution_count": 29,
   "id": "0fb43a41-6651-46dd-a963-c1efe3bb8c35",
   "metadata": {
    "scrolled": true
   },
   "outputs": [
    {
     "name": "stdout",
     "output_type": "stream",
     "text": [
      "Enter number: 20\n"
     ]
    },
    {
     "name": "stdout",
     "output_type": "stream",
     "text": [
      "Even\n"
     ]
    }
   ],
   "source": [
    "a=int(input(\"Enter number:\"))\n",
    "if a%2==0:\n",
    "    print(\"Even\")\n",
    "else:\n",
    "    print(\"Odd\")"
   ]
  },
  {
   "cell_type": "markdown",
   "id": "ab7f2be6-af0f-4b70-b0ce-f69fa30f5530",
   "metadata": {},
   "source": [
    "# Experiment-06\n",
    "# Factors of a number"
   ]
  },
  {
   "cell_type": "code",
   "execution_count": 34,
   "id": "a88645dc-8a97-4dcf-90e1-7b6a461d7c73",
   "metadata": {},
   "outputs": [
    {
     "name": "stdout",
     "output_type": "stream",
     "text": [
      "Enter a number: 42\n"
     ]
    },
    {
     "name": "stdout",
     "output_type": "stream",
     "text": [
      "1 2 3 6 7 14 21 42 "
     ]
    }
   ],
   "source": [
    "n=int(input(\"Enter a number:\"))\n",
    "for i in range(1 , n+1):\n",
    "    if n%i==0:\n",
    "        print(i, end=\" \")"
   ]
  },
  {
   "cell_type": "markdown",
   "id": "13063563-2198-44a4-9109-52591d0dc177",
   "metadata": {},
   "source": [
    "# Experiment-07\n",
    "# Prime Number"
   ]
  },
  {
   "cell_type": "code",
   "execution_count": 47,
   "id": "4ba799fc-a208-44f5-b279-05090714ae35",
   "metadata": {},
   "outputs": [
    {
     "name": "stdout",
     "output_type": "stream",
     "text": [
      "Enter a number 13\n"
     ]
    },
    {
     "name": "stdout",
     "output_type": "stream",
     "text": [
      "The number is prime\n"
     ]
    }
   ],
   "source": [
    "n=int(input(\"Enter a number\"))\n",
    "prime=1\n",
    "for i in range(2,int(n/2)):\n",
    "    if n%i==0:\n",
    "        prime=0\n",
    "        print(\"Not prime\")\n",
    "        break\n",
    "if prime==1:\n",
    "    print(\"The number is prime\")"
   ]
  },
  {
   "cell_type": "code",
   "execution_count": 45,
   "id": "ac1804c5-48cb-4cbe-8a1c-d0a2591baaf4",
   "metadata": {},
   "outputs": [
    {
     "name": "stdout",
     "output_type": "stream",
     "text": [
      "Enter a number 14\n"
     ]
    },
    {
     "name": "stdout",
     "output_type": "stream",
     "text": [
      "Not prime\n"
     ]
    }
   ],
   "source": [
    "n=int(input(\"Enter a number\"))\n",
    "prime=1\n",
    "for i in range(2,int(n/2)):\n",
    "    if n%i==0:\n",
    "        prime=0\n",
    "        print(\"Not prime\")\n",
    "        break\n",
    "if prime==1:\n",
    "    print(\"Prime\")"
   ]
  },
  {
   "cell_type": "markdown",
   "id": "2a30c5ba-9ba3-4f98-8f26-4091c33b1465",
   "metadata": {},
   "source": [
    "# Experiment-08\n",
    "# Palindrome of a number"
   ]
  },
  {
   "cell_type": "code",
   "execution_count": 54,
   "id": "0f4c1fd9-213a-4562-ab04-83342814e60f",
   "metadata": {},
   "outputs": [
    {
     "name": "stdout",
     "output_type": "stream",
     "text": [
      "Enter a number 121\n"
     ]
    },
    {
     "name": "stdout",
     "output_type": "stream",
     "text": [
      "Palindrome\n"
     ]
    }
   ],
   "source": [
    "n=int(input(\"Enter a number\"))\n",
    "temp=n\n",
    "reverse=0\n",
    "while n!=0:\n",
    "    digit=n%10\n",
    "    reverse= reverse*10 + digit\n",
    "    n=n//10\n",
    "if temp == reverse:\n",
    "    print(\"Palindrome\")\n",
    "else:\n",
    "    print(\"Not Palindrome\")"
   ]
  },
  {
   "cell_type": "code",
   "execution_count": 56,
   "id": "ac8784db-5cf5-4fef-9184-957fec85bdd2",
   "metadata": {},
   "outputs": [
    {
     "name": "stdout",
     "output_type": "stream",
     "text": [
      "Enter a number 123\n"
     ]
    },
    {
     "name": "stdout",
     "output_type": "stream",
     "text": [
      "Not Palindrome\n"
     ]
    }
   ],
   "source": [
    "n=int(input(\"Enter a number\"))\n",
    "temp=n\n",
    "reverse=0\n",
    "while n!=0:\n",
    "    digit=n%10\n",
    "    reverse= reverse*10 + digit\n",
    "    n=n//10\n",
    "if temp == reverse:\n",
    "    print(\"Palindrome\")\n",
    "else:\n",
    "    print(\"Not Palindrome\")"
   ]
  },
  {
   "cell_type": "markdown",
   "id": "a7e97815-019e-4749-8d3a-04782004141e",
   "metadata": {},
   "source": [
    "# Experiment no-09\n",
    "# Sorting of a list"
   ]
  },
  {
   "cell_type": "code",
   "execution_count": 65,
   "id": "8b9cb84e-2b7b-42ee-a23b-de3e4b142afc",
   "metadata": {},
   "outputs": [
    {
     "name": "stdout",
     "output_type": "stream",
     "text": [
      "Enter a list: [25,3,46,8,7,20,23]\n"
     ]
    },
    {
     "name": "stdout",
     "output_type": "stream",
     "text": [
      "[3, 7, 8, 20, 23, 25, 46]\n"
     ]
    }
   ],
   "source": [
    "a=eval(input(\"Enter a list:\"))\n",
    "a.sort()\n",
    "print(a)"
   ]
  },
  {
   "cell_type": "markdown",
   "id": "45540781-39e1-4622-b6ac-3058f8ae7185",
   "metadata": {},
   "source": [
    "# Experiment-10\n",
    "# Factorial using recursion"
   ]
  },
  {
   "cell_type": "code",
   "execution_count": 68,
   "id": "850b5347-0ce4-4f14-9fda-a6d7568b56a5",
   "metadata": {},
   "outputs": [
    {
     "name": "stdout",
     "output_type": "stream",
     "text": [
      "Enter a number: 6\n"
     ]
    },
    {
     "name": "stdout",
     "output_type": "stream",
     "text": [
      "Factorial= 720\n"
     ]
    }
   ],
   "source": [
    "def fact(n):\n",
    "    if n==0 or n==1:\n",
    "        return 1\n",
    "    else:\n",
    "        return n*fact(n-1)\n",
    "n=int(input(\"Enter a number:\"))\n",
    "print(\"Factorial=\", fact(n))"
   ]
  },
  {
   "cell_type": "markdown",
   "id": "13d750d6-3c02-47da-9234-2c416b4d2b6b",
   "metadata": {},
   "source": [
    "# Experiment-11\n",
    "# Password complexity checker"
   ]
  },
  {
   "cell_type": "code",
   "execution_count": 71,
   "id": "d477032b-7688-48ec-8be5-d9bef5848955",
   "metadata": {},
   "outputs": [
    {
     "name": "stdout",
     "output_type": "stream",
     "text": [
      "Enter your password: Goldibabu\n"
     ]
    },
    {
     "name": "stdout",
     "output_type": "stream",
     "text": [
      "Weak password\n"
     ]
    }
   ],
   "source": [
    "def password_check(s):\n",
    "    length,u,l,d,an=0,0,0,0,0\n",
    "    if len(s)<8:\n",
    "        length=1\n",
    "        return\"Weak password\"\n",
    "    if s.upper() or s.lower():\n",
    "        u,l=1,1\n",
    "        return\"Weak password\"\n",
    "    if s.isdigit():\n",
    "        d=1\n",
    "        return\"Weak password\"\n",
    "    if s.isalnum():\n",
    "        an=1\n",
    "        return\"Weak password\"\n",
    "    if length==0 and u==0 and l==0 and d==0 and an==0:\n",
    "        return\"Strong password\"\n",
    "str=input(\"Enter your password:\")\n",
    "print(password_check(str))\n",
    "\n",
    "    "
   ]
  },
  {
   "cell_type": "code",
   "execution_count": 77,
   "id": "bf04d8e2-1a1a-4ce5-9556-b2bfda774202",
   "metadata": {},
   "outputs": [
    {
     "name": "stdout",
     "output_type": "stream",
     "text": [
      "Enter your password: CYsjcet@2004\n"
     ]
    },
    {
     "name": "stdout",
     "output_type": "stream",
     "text": [
      "Strong password\n"
     ]
    }
   ],
   "source": [
    "def password_check(s):\n",
    "    length,u,l,d,an=0,0,0,0,0\n",
    "    if len(s)<8:\n",
    "        length=1\n",
    "        return\"Weak password\"\n",
    "    if s.isupper() or s.islower():\n",
    "        u,l=1,1\n",
    "        return\"Weak password\"\n",
    "    if s.isdigit():\n",
    "        d=1\n",
    "        return\"Weak password\"\n",
    "    if s.isalnum():\n",
    "        an=1\n",
    "        return\"Weak password\"\n",
    "    if length==0 and u==0 and l==0 and d==0 and an==0:\n",
    "        return\"Strong password\"\n",
    "str=input(\"Enter your password:\")\n",
    "print(password_check(str))\n",
    "\n",
    "    "
   ]
  },
  {
   "cell_type": "code",
   "execution_count": null,
   "id": "a12cc58f-a932-4f06-9f5b-db1de838a834",
   "metadata": {},
   "outputs": [],
   "source": []
  }
 ],
 "metadata": {
  "kernelspec": {
   "display_name": "Python [conda env:base] *",
   "language": "python",
   "name": "conda-base-py"
  },
  "language_info": {
   "codemirror_mode": {
    "name": "ipython",
    "version": 3
   },
   "file_extension": ".py",
   "mimetype": "text/x-python",
   "name": "python",
   "nbconvert_exporter": "python",
   "pygments_lexer": "ipython3",
   "version": "3.12.7"
  }
 },
 "nbformat": 4,
 "nbformat_minor": 5
}
